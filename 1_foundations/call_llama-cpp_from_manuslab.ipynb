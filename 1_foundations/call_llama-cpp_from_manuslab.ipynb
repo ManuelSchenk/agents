{
  "cells": [
    {
      "cell_type": "code",
      "execution_count": 2,
      "metadata": {},
      "outputs": [],
      "source": [
        "from agents.model_settings import ModelSettings\n",
        "from openai import OpenAI\n",
        "from dotenv import load_dotenv\n",
        "import os\n",
        "\n",
        "load_dotenv(override=True)\n",
        "\n",
        "# call ollama form my ubuntu workstation\n",
        "OLLAMA_BASE_URL = os.getenv(\"OLLAMA_BASE_URL\", \"http://192.168.178.24:8080/v1\")\n",
        "llama_client = OpenAI(base_url=OLLAMA_BASE_URL, api_key=\"ollama\")\n"
      ]
    },
    {
      "cell_type": "code",
      "execution_count": 3,
      "metadata": {},
      "outputs": [
        {
          "name": "stdout",
          "output_type": "stream",
          "text": [
            "```python\n",
            "import csv\n",
            "\n",
            "def calculate_mean(column):\n",
            "    sum_value = 0\n",
            "    count = 0\n",
            "    with open('file.csv', mode='r') as file:\n",
            "        csv_reader = csv.reader(file)\n",
            "        for row in csv_reader:\n",
            "            if row:  # Skip empty rows\n",
            "                sum_value += float(row[column])\n",
            "                count += 1\n",
            "    return sum_value / count if count > 0 else 0\n",
            "\n",
            "mean_value = calculate_mean(2)  # Assuming we want to calculate mean of the third column\n",
            "print(f\"Mean: {mean_value}\")\n",
            "```\n"
          ]
        }
      ],
      "source": [
        "task = \"read a CSV file and calculate the mean of a column\"\n",
        "prompt = f\"Write pzthon code to {task}. Only provide the code, no explanations.\"\n",
        "\n",
        "response = llama_client.chat.completions.create(\n",
        "    model=\"local\",\n",
        "    messages=[\n",
        "        {\"role\": \"system\", \"content\": \"You are an expert programmer.\"},\n",
        "        {\"role\": \"user\", \"content\": prompt}\n",
        "    ],\n",
        "    temperature=0.3,  # Lower temp for code\n",
        "    max_tokens=1000\n",
        ")\n",
        "    \n",
        "print(response.choices[0].message.content)"
      ]
    },
    {
      "cell_type": "code",
      "execution_count": null,
      "metadata": {},
      "outputs": [],
      "source": []
    }
  ],
  "metadata": {
    "kernelspec": {
      "display_name": ".venv",
      "language": "python",
      "name": "python3"
    },
    "language_info": {
      "codemirror_mode": {
        "name": "ipython",
        "version": 3
      },
      "file_extension": ".py",
      "mimetype": "text/x-python",
      "name": "python",
      "nbconvert_exporter": "python",
      "pygments_lexer": "ipython3",
      "version": "3.12.12"
    }
  },
  "nbformat": 4,
  "nbformat_minor": 2
}
